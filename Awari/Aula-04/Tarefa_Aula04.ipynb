{
 "cells": [
  {
   "cell_type": "code",
   "execution_count": 6,
   "id": "a494e470-bb76-4c80-a91d-b3eb85990021",
   "metadata": {},
   "outputs": [],
   "source": [
    "import random"
   ]
  },
  {
   "cell_type": "markdown",
   "id": "8e57e5e8-f8ea-4959-8f62-dbeee151d5b9",
   "metadata": {},
   "source": [
    "# **Atividades**"
   ]
  },
  {
   "cell_type": "markdown",
   "id": "29c834fb-7db9-4a93-9512-bd69edd6d3f7",
   "metadata": {},
   "source": [
    "### 1. Criar algoritmo que liste toda a sequência de Fibonacci até o número 100;"
   ]
  },
  {
   "cell_type": "code",
   "execution_count": 1,
   "id": "4bd94355-8245-4d9d-95c8-3a5b31808965",
   "metadata": {},
   "outputs": [
    {
     "data": {
      "text/plain": [
       "[1, 1, 2, 3, 5, 8, 13, 21, 34, 55, 89]"
      ]
     },
     "execution_count": 1,
     "metadata": {},
     "output_type": "execute_result"
    }
   ],
   "source": [
    "def fib(n):\n",
    "    seq = [1, 1]\n",
    "\n",
    "    while True:\n",
    "        next = seq[-1] + seq[-2]\n",
    "        \n",
    "        if next <= n:\n",
    "            seq.append(next)\n",
    "        else:\n",
    "            break\n",
    "    \n",
    "    return seq\n",
    "\n",
    "n = 100\n",
    "result = fib(n)\n",
    "result"
   ]
  },
  {
   "cell_type": "markdown",
   "id": "9e841747-9e28-475b-b41f-3d568125541c",
   "metadata": {},
   "source": [
    "### **2. Criar algoritmo que faça a fatoração do número 1024. (Exemplo de fatoração: 6! = 6x5x4x3x2x1).**"
   ]
  },
  {
   "cell_type": "markdown",
   "id": "40b54277-9fa4-4c7f-a2d7-ea840b753a84",
   "metadata": {},
   "source": [
    "### **2.1 Fatoração (números primos)**"
   ]
  },
  {
   "cell_type": "code",
   "execution_count": 2,
   "id": "72477708-5352-4a2b-9459-5bf50b97c88e",
   "metadata": {},
   "outputs": [
    {
     "name": "stdout",
     "output_type": "stream",
     "text": [
      "Fatoração de 1024: [2, 2, 2, 2, 2, 2, 2, 2, 2, 2]\n"
     ]
    }
   ],
   "source": [
    "def fat(n):\n",
    "    fatores = []\n",
    "    div = 2\n",
    "\n",
    "    while div <= n:\n",
    "        if n % div == 0:\n",
    "            fatores.append(div)\n",
    "            n = n // 2\n",
    "        else:\n",
    "            div += 1\n",
    "\n",
    "    return fatores\n",
    "\n",
    "n = 1024\n",
    "\n",
    "resultado = fat(n)\n",
    "\n",
    "print(f\"Fatoração de {n}: {resultado}\")"
   ]
  },
  {
   "cell_type": "markdown",
   "id": "277fd936-f5f2-415b-81da-f144fdec4d67",
   "metadata": {},
   "source": [
    "### **2.2 Fatorial**"
   ]
  },
  {
   "cell_type": "code",
   "execution_count": 3,
   "id": "eef8849e-b6b0-4d96-947e-947cdfa5a955",
   "metadata": {},
   "outputs": [
    {
     "name": "stdout",
     "output_type": "stream",
     "text": [
      "A fórmula fatorial para 1024 é: 2*2*2*2*2*2*2*2*2*2\n"
     ]
    }
   ],
   "source": [
    "def encontrar_formula_fatorial(numero):\n",
    "    fatorial = 1\n",
    "    fatores = []\n",
    "\n",
    "    i = 2\n",
    "    while numero > 1:\n",
    "        if numero % i == 0:\n",
    "            fatorial *= i\n",
    "            fatores.append(i)\n",
    "            numero //= i\n",
    "        else:\n",
    "            i += 1\n",
    "\n",
    "    if fatorial == 1:\n",
    "        return f\"A fórmula fatorial para {numero} é: {numero} não pode ser representado como fatorial.\"\n",
    "    else:\n",
    "        formula_fatorial = '*'.join([str(factor) for factor in fatores])\n",
    "        return f\"A fórmula fatorial para {fatorial} é: {formula_fatorial}\"\n",
    "\n",
    "numero_alvo = 1024\n",
    "\n",
    "resultado_formula = encontrar_formula_fatorial(numero_alvo)\n",
    "\n",
    "print(resultado_formula)"
   ]
  },
  {
   "cell_type": "markdown",
   "id": "2a22950c-9ad2-4582-bbc0-36629d48e764",
   "metadata": {},
   "source": [
    "### 3. Criar uma lista de frutas (bananas, maçãs, peras, uvas, laranjas) e fazer um algoritmo para consultar se uma fruta existe na lista. Caso não exista, adicionar a nova fruta. O programa só deve encerrar a brincadeira quando o usuário informar o número 999."
   ]
  },
  {
   "cell_type": "code",
   "execution_count": 4,
   "id": "0a16436b-ade1-415d-b87e-9413269a2b40",
   "metadata": {},
   "outputs": [],
   "source": [
    "lista_ref_frutas = ['Abacate', 'Abacaxi', 'Abiu', 'Abricó', 'Abrunho', 'Açaí', 'Acerola', 'Akee', 'Alfarroba', 'Ameixa', 'Amêndoa', 'Amora', 'Ananás', 'Anona', 'Araçá', 'Arando', 'Araticum', 'Ata', 'Atemoia', 'Avelã',\n",
    "                    'Babaco', 'Babaçu', 'Bacaba', 'Bacuri', 'Bacupari', 'Banana', 'Baru', 'Bergamota', 'Biribá', 'Buriti', 'Butiá',\n",
    "                    'Cacau', 'Cagaita', 'Caimito', 'Cajá', 'Caju', 'Calabaça', 'Calabura', 'Calamondin', 'Cambucá', 'Cambuci', 'Camu-camu', 'Caqui', 'Carambola', 'Carnaúba', 'Castanha', 'Castanha-do-pará', 'Cereja', 'Ciriguela', 'Ciruela', 'Coco', 'Cranberry', 'Cupuaçu',\n",
    "                    'Damasco', 'Dekopon', 'Dendê', 'Dióspiro', 'Dovyalis', 'Durião',\n",
    "                    'Embaúba', 'Embaubarana', 'Engkala', 'Escropari', 'Esfregadinha', 'Esporão-de-galo',\n",
    "                    'Figo', 'Framboesa', 'Fruta-do-conde', 'Fruta-pão', 'Feijoa', 'Figo-da-índia', 'Fruta-de-cedro', 'Fruta-de-lobo', 'Fruta-do-milagre', 'Fruta-de-tatu',\n",
    "                    'Gabiroba', 'Glicosmis', 'Goiaba', 'Granadilla', 'Gravatá', 'Graviola', 'Groselha', 'Grumixama', 'Guabiju', 'Guabiroba', 'Guaraná',\n",
    "                    'Hawthorn', 'Heisteria', 'Hilocéreo',\n",
    "                    'Ibacurupari', 'Ilama', 'Imbe', 'Imbu', 'Inajá', 'Ingá', 'Inharé',\n",
    "                    'Jabuticaba', 'Jaca', 'Jambo', 'Jambolão', 'Jamelão', 'Jaracatiá', 'Jatobá', 'Jenipapo', 'Jerivá', 'Juá', 'Jujuba',\n",
    "                    'Kiwi', 'Kumquat', 'Kinkan', 'Kino', 'Kiwano', 'Kabosu', 'Karité', 'Korlan',\n",
    "                    'Laranja', 'Limão', 'Lima', 'Lichia', 'Longan', 'Lucuma', 'Lacucha', 'Lulo', 'Lobeira', 'Langsat', 'Laranja-de-pacu',\n",
    "                    'Mabolo', 'Maçã', 'Macadâmia', 'Macaúba', 'Mamão', 'Mamey', 'Mamoncillo', 'Maná-cubiu', 'Manga', 'Mangaba', 'Mangostão', 'Maracujá', 'Marang', 'Marmelo', 'Marolo', 'Marula', 'Massala', 'Melancia', 'Melão', 'Meloa', 'Mexerica', 'Mirtilo', 'Morango', 'Murici',\n",
    "                    'Naranjilla', 'Nectarina', 'Nêspera', 'Noni', 'Noz', 'Noz-pecã', 'Noz-macadâmia',\n",
    "                    'Oiti', 'Oxicoco', 'Orangelo',\n",
    "                    'Pera', 'Pêssego', 'Pitanga', 'Pinha', 'Pitaia', 'Pitomba', 'Pitangatuba', 'Pindaíba', 'Pequi', 'Pequiá', 'Physalis', 'Pulasan', 'Pomelo', 'Pupunha', 'Puçá', 'Patauá', 'Pajurá', 'Pixirica', 'Pistache',\n",
    "                    'Quina', 'Quiuí', 'Quixabeira',\n",
    "                    'Romã', 'Rambai', 'Rambutão', 'Rukam',\n",
    "                    'Saguaraji', 'Salak', 'Santol', 'Sapota', 'Sapoti', 'Sapucaia', 'Saputá', 'Seriguela', 'Sorvinha',\n",
    "                    'Tangerina', 'Tamarindo', 'Tâmara', 'Toranja', 'Tucumã', 'Taiuva', 'Tapiá', 'Tarumã', 'Tangor', 'Tucujá',\n",
    "                    'Uva', 'Umbu', 'Uvaia', 'Uchuva', 'Umê', 'Uxi', 'Ucuuba',\n",
    "                    'Vacínio', 'Veludo', 'Vergamota', 'Veludo-branco',\n",
    "                    'Wampi',\n",
    "                    'Xixá',\n",
    "                    'Yamamomo', 'Yuzu',\n",
    "                    'Zimbro'\n",
    "                   ]"
   ]
  },
  {
   "cell_type": "code",
   "execution_count": 7,
   "id": "8a8e8c8b-6984-42ab-a281-0ac41a717cd8",
   "metadata": {},
   "outputs": [
    {
     "name": "stdin",
     "output_type": "stream",
     "text": [
      "\n",
      "Digite o nome da fruta, 99 para consultar a lista de referência aleatória ou 999 para encerrar:  99\n"
     ]
    },
    {
     "name": "stdout",
     "output_type": "stream",
     "text": [
      "Fruta começando com A: Akee\n",
      "Fruta começando com B: Babaco\n",
      "Fruta começando com C: Ciriguela\n",
      "Fruta começando com D: Dekopon\n",
      "Fruta começando com E: Escropari\n",
      "Fruta começando com F: Fruta-de-lobo\n",
      "Fruta começando com G: Guabiroba\n",
      "Fruta começando com H: Heisteria\n",
      "Fruta começando com I: Imbu\n",
      "Fruta começando com J: Jamelão\n",
      "Fruta começando com K: Kiwi\n",
      "Fruta começando com L: Limão\n",
      "Fruta começando com M: Melão\n",
      "Fruta começando com N: Noni\n",
      "Fruta começando com O: Orangelo\n",
      "Fruta começando com P: Puçá\n",
      "Fruta começando com Q: Quixabeira\n",
      "Fruta começando com R: Rambutão\n",
      "Fruta começando com S: Sapoti\n",
      "Fruta começando com T: Tarumã\n",
      "Fruta começando com U: Uva\n",
      "Fruta começando com V: Vergamota\n",
      "Fruta começando com W: Wampi\n",
      "Fruta começando com X: Xixá\n",
      "Fruta começando com Y: Yamamomo\n",
      "Fruta começando com Z: Zimbro\n"
     ]
    },
    {
     "name": "stdin",
     "output_type": "stream",
     "text": [
      "\n",
      "Digite o nome da fruta, 99 para consultar a lista de referência aleatória ou 999 para encerrar:  kiwi\n"
     ]
    },
    {
     "name": "stdout",
     "output_type": "stream",
     "text": [
      "kiwi foi adicionado à lista.\n",
      "\n"
     ]
    },
    {
     "name": "stdin",
     "output_type": "stream",
     "text": [
      "\n",
      "Digite o nome da fruta, 99 para consultar a lista de referência aleatória ou 999 para encerrar:  goiaba\n"
     ]
    },
    {
     "name": "stdout",
     "output_type": "stream",
     "text": [
      "goiaba foi adicionado à lista.\n",
      "\n"
     ]
    },
    {
     "name": "stdin",
     "output_type": "stream",
     "text": [
      "\n",
      "Digite o nome da fruta, 99 para consultar a lista de referência aleatória ou 999 para encerrar:  morango\n"
     ]
    },
    {
     "name": "stdout",
     "output_type": "stream",
     "text": [
      "morango foi adicionado à lista.\n",
      "\n"
     ]
    },
    {
     "name": "stdin",
     "output_type": "stream",
     "text": [
      "\n",
      "Digite o nome da fruta, 99 para consultar a lista de referência aleatória ou 999 para encerrar:  uva\n"
     ]
    },
    {
     "name": "stdout",
     "output_type": "stream",
     "text": [
      "uva já está na lista.\n"
     ]
    },
    {
     "name": "stdin",
     "output_type": "stream",
     "text": [
      "\n",
      "Digite o nome da fruta, 99 para consultar a lista de referência aleatória ou 999 para encerrar:  jamelão\n"
     ]
    },
    {
     "name": "stdout",
     "output_type": "stream",
     "text": [
      "jamelão foi adicionado à lista.\n",
      "\n"
     ]
    },
    {
     "name": "stdin",
     "output_type": "stream",
     "text": [
      "\n",
      "Digite o nome da fruta, 99 para consultar a lista de referência aleatória ou 999 para encerrar:  99\n"
     ]
    },
    {
     "name": "stdout",
     "output_type": "stream",
     "text": [
      "Fruta começando com A: Ananás\n",
      "Fruta começando com B: Babaçu\n",
      "Fruta começando com C: Calamondin\n",
      "Fruta começando com D: Dendê\n",
      "Fruta começando com E: Embaubarana\n",
      "Fruta começando com F: Fruta-de-lobo\n",
      "Fruta começando com G: Groselha\n",
      "Fruta começando com H: Hilocéreo\n",
      "Fruta começando com I: Inharé\n",
      "Fruta começando com J: Jenipapo\n",
      "Fruta começando com K: Kiwi\n",
      "Fruta começando com L: Limão\n",
      "Fruta começando com M: Mabolo\n",
      "Fruta começando com N: Naranjilla\n",
      "Fruta começando com O: Orangelo\n",
      "Fruta começando com P: Pistache\n",
      "Fruta começando com Q: Quina\n",
      "Fruta começando com R: Rambutão\n",
      "Fruta começando com S: Sapota\n",
      "Fruta começando com T: Tarumã\n",
      "Fruta começando com U: Uxi\n",
      "Fruta começando com V: Vacínio\n",
      "Fruta começando com W: Wampi\n",
      "Fruta começando com X: Xixá\n",
      "Fruta começando com Y: Yamamomo\n",
      "Fruta começando com Z: Zimbro\n"
     ]
    },
    {
     "name": "stdin",
     "output_type": "stream",
     "text": [
      "\n",
      "Digite o nome da fruta, 99 para consultar a lista de referência aleatória ou 999 para encerrar:  romã\n"
     ]
    },
    {
     "name": "stdout",
     "output_type": "stream",
     "text": [
      "romã foi adicionado à lista.\n",
      "\n"
     ]
    },
    {
     "name": "stdin",
     "output_type": "stream",
     "text": [
      "\n",
      "Digite o nome da fruta, 99 para consultar a lista de referência aleatória ou 999 para encerrar:  limão\n"
     ]
    },
    {
     "name": "stdout",
     "output_type": "stream",
     "text": [
      "limão foi adicionado à lista.\n",
      "\n"
     ]
    },
    {
     "name": "stdin",
     "output_type": "stream",
     "text": [
      "\n",
      "Digite o nome da fruta, 99 para consultar a lista de referência aleatória ou 999 para encerrar:  99\n"
     ]
    },
    {
     "name": "stdout",
     "output_type": "stream",
     "text": [
      "Fruta começando com A: Araticum\n",
      "Fruta começando com B: Buriti\n",
      "Fruta começando com C: Cereja\n",
      "Fruta começando com D: Damasco\n",
      "Fruta começando com E: Esporão-de-galo\n",
      "Fruta começando com F: Fruta-pão\n",
      "Fruta começando com G: Glicosmis\n",
      "Fruta começando com H: Heisteria\n",
      "Fruta começando com I: Ibacurupari\n",
      "Fruta começando com J: Jabuticaba\n",
      "Fruta começando com K: Kino\n",
      "Fruta começando com L: Laranja\n",
      "Fruta começando com M: Mamão\n",
      "Fruta começando com N: Noz-pecã\n",
      "Fruta começando com O: Oxicoco\n",
      "Fruta começando com P: Pinha\n",
      "Fruta começando com Q: Quina\n",
      "Fruta começando com R: Rambai\n",
      "Fruta começando com S: Santol\n",
      "Fruta começando com T: Tucujá\n",
      "Fruta começando com U: Uxi\n",
      "Fruta começando com V: Veludo-branco\n",
      "Fruta começando com W: Wampi\n",
      "Fruta começando com X: Xixá\n",
      "Fruta começando com Y: Yamamomo\n",
      "Fruta começando com Z: Zimbro\n"
     ]
    },
    {
     "name": "stdin",
     "output_type": "stream",
     "text": [
      "\n",
      "Digite o nome da fruta, 99 para consultar a lista de referência aleatória ou 999 para encerrar:  cereja\n"
     ]
    },
    {
     "name": "stdout",
     "output_type": "stream",
     "text": [
      "cereja foi adicionado à lista.\n",
      "\n"
     ]
    },
    {
     "name": "stdin",
     "output_type": "stream",
     "text": [
      "\n",
      "Digite o nome da fruta, 99 para consultar a lista de referência aleatória ou 999 para encerrar:  999\n"
     ]
    },
    {
     "name": "stdout",
     "output_type": "stream",
     "text": [
      "\n",
      "\n",
      "Lista final de frutas: ['bananas', 'maçãs', 'peras', 'uvas', 'laranjas', 'kiwi', 'goiaba', 'morango', 'jamelão', 'romã', 'limão', 'cereja']\n"
     ]
    }
   ],
   "source": [
    "frutas = [\"bananas\", \"maçãs\", \"peras\", \"uvas\", \"laranjas\"]\n",
    "\n",
    "def singularizar_palavra(palavra):\n",
    "    if palavra.endswith(\"s\"):\n",
    "        return palavra[:-1]\n",
    "    else:\n",
    "        return palavra\n",
    "\n",
    "while True:\n",
    "    entrada_usuario = input(\"\\nDigite o nome da fruta, 99 para consultar a lista de referência aleatória ou 999 para encerrar: \")\n",
    "\n",
    "    if entrada_usuario == \"999\":\n",
    "        break\n",
    "    elif entrada_usuario == \"99\":\n",
    "        # Consultar e retornar aleatoriamente uma fruta para cada letra do alfabeto\n",
    "        for letra in 'ABCDEFGHIJKLMNOPQRSTUVWXYZ':\n",
    "            frutas_letra = [fruta for fruta in lista_ref_frutas if fruta.lower().startswith(letra.lower())]\n",
    "            if frutas_letra:\n",
    "                fruta_aleatoria = random.choice(frutas_letra)\n",
    "                print(f\"Fruta começando com {letra}: {fruta_aleatoria}\")\n",
    "        continue\n",
    "\n",
    "    entrada_usuario_singular = singularizar_palavra(entrada_usuario.lower())\n",
    "    frutas_singularizadas = [singularizar_palavra(fruta.lower()) for fruta in frutas]\n",
    "\n",
    "    if entrada_usuario_singular in frutas_singularizadas:\n",
    "        print(f\"{entrada_usuario} já está na lista.\")\n",
    "    else:\n",
    "        frutas.append(entrada_usuario.lower())\n",
    "        print(f\"{entrada_usuario} foi adicionado à lista.\\n\")\n",
    "\n",
    "print(\"\\n\\nLista final de frutas:\", frutas)"
   ]
  },
  {
   "cell_type": "code",
   "execution_count": 8,
   "id": "f7b45ced-f3f2-46a7-bda8-a15bdd8bc1a2",
   "metadata": {},
   "outputs": [
    {
     "data": {
      "text/plain": [
       "['bananas',\n",
       " 'maçãs',\n",
       " 'peras',\n",
       " 'uvas',\n",
       " 'laranjas',\n",
       " 'kiwi',\n",
       " 'goiaba',\n",
       " 'morango',\n",
       " 'jamelão',\n",
       " 'romã',\n",
       " 'limão',\n",
       " 'cereja']"
      ]
     },
     "execution_count": 8,
     "metadata": {},
     "output_type": "execute_result"
    }
   ],
   "source": [
    "frutas"
   ]
  }
 ],
 "metadata": {
  "kernelspec": {
   "display_name": "Python 3 (ipykernel)",
   "language": "python",
   "name": "python3"
  },
  "language_info": {
   "codemirror_mode": {
    "name": "ipython",
    "version": 3
   },
   "file_extension": ".py",
   "mimetype": "text/x-python",
   "name": "python",
   "nbconvert_exporter": "python",
   "pygments_lexer": "ipython3",
   "version": "3.11.6"
  }
 },
 "nbformat": 4,
 "nbformat_minor": 5
}
